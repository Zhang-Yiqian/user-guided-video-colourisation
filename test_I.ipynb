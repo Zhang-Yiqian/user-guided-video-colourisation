{
 "cells": [
  {
   "cell_type": "code",
   "execution_count": 1,
   "metadata": {
    "colab": {
     "base_uri": "https://localhost:8080/",
     "height": 34
    },
    "colab_type": "code",
    "executionInfo": {
     "elapsed": 24109,
     "status": "ok",
     "timestamp": 1585933128835,
     "user": {
      "displayName": "Yiqian Zhang",
      "photoUrl": "",
      "userId": "10081910027681855976"
     },
     "user_tz": -60
    },
    "id": "Em2AGKxYqV1w",
    "outputId": "5198f624-c10a-40f6-9d0e-2e787d41b221"
   },
   "outputs": [
    {
     "name": "stdout",
     "output_type": "stream",
     "text": [
      "Interaction Network: initialized\n"
     ]
    }
   ],
   "source": [
    "import sys\n",
    "import torch\n",
    "import numpy as np\n",
    "import random\n",
    "import os\n",
    "import time\n",
    "import skimage\n",
    "from skimage import data\n",
    "from skimage.color import rgb2lab, lab2rgb\n",
    "from skimage.transform import resize\n",
    "from skimage.io import imshow\n",
    "import pdb\n",
    "from models import create_Inet\n",
    "import torch\n",
    "import torchvision\n",
    "import torchvision.transforms as transforms\n",
    "from scipy import interpolate\n",
    "from utils.image_folder import ImageFolder\n",
    "from utils.utils import *\n",
    "# from utils.Visualizer import Visualizer\n",
    "import matplotlib.pyplot as plt\n",
    "from IPython.display import clear_output\n",
    "from options import DefaultConfig\n",
    "opt = DefaultConfig()\n",
    "torch.cuda.set_device(opt.gpu_ids)\n",
    "torch.manual_seed(opt.seed)\n",
    "torch.cuda.manual_seed_all(opt.seed)\n",
    "np.random.seed(opt.seed)\n",
    "random.seed(opt.seed)\n",
    "torch.backends.cudnn.deterministic = True"
   ]
  },
  {
   "cell_type": "code",
   "execution_count": 2,
   "metadata": {
    "colab": {
     "base_uri": "https://localhost:8080/",
     "height": 34
    },
    "colab_type": "code",
    "executionInfo": {
     "elapsed": 24105,
     "status": "ok",
     "timestamp": 1585933128836,
     "user": {
      "displayName": "Yiqian Zhang",
      "photoUrl": "",
      "userId": "10081910027681855976"
     },
     "user_tz": -60
    },
    "id": "hx6eTwg3qw65",
    "outputId": "9ecd49a4-beb1-41d6-f16d-67329f167156"
   },
   "outputs": [
    {
     "name": "stdout",
     "output_type": "stream",
     "text": [
      "#training images = 1000\n"
     ]
    }
   ],
   "source": [
    "opt.dataroot_val = opt.dataroot + 'subval/'\n",
    "dataset_val = ImageFolder(opt.dataroot_val, opt, \n",
    "                       transform=transforms.Compose([transforms.ToTensor()]))\n",
    "dataset_loader_val = torch.utils.data.DataLoader(dataset_val, batch_size=opt.batch_size_val, shuffle=True)\n",
    "dataset_val_size = len(dataset_val)\n",
    "print('#training images = %d' % dataset_val_size)"
   ]
  },
  {
   "cell_type": "code",
   "execution_count": 3,
   "metadata": {
    "colab": {
     "base_uri": "https://localhost:8080/",
     "height": 122
    },
    "colab_type": "code",
    "executionInfo": {
     "elapsed": 29321,
     "status": "ok",
     "timestamp": 1585933134057,
     "user": {
      "displayName": "Yiqian Zhang",
      "photoUrl": "",
      "userId": "10081910027681855976"
     },
     "user_tz": -60
    },
    "id": "nQIMowLsrbrm",
    "outputId": "b376fecc-0034-42dc-ca26-cd3ef5546789"
   },
   "outputs": [
    {
     "name": "stdout",
     "output_type": "stream",
     "text": [
      "Interaction net was created\n"
     ]
    }
   ],
   "source": [
    "model = create_Inet(opt)\n",
    "path = 'I_auto_ep2_val_30.pkl'model.load_state_dict(torch.load(path, map_location='cuda:3').state_dict())\n",
    "model.eval();\n",
    "model.cuda();"
   ]
  },
  {
   "cell_type": "code",
   "execution_count": 4,
   "metadata": {
    "colab": {
     "base_uri": "https://localhost:8080/",
     "height": 615
    },
    "colab_type": "code",
    "executionInfo": {
     "elapsed": 32089,
     "status": "ok",
     "timestamp": 1585933136830,
     "user": {
      "displayName": "Yiqian Zhang",
      "photoUrl": "",
      "userId": "10081910027681855976"
     },
     "user_tz": -60
    },
    "id": "z29AQ8_ms5UC",
    "outputId": "59720cba-2971-4018-d02f-cbd44de6884a"
   },
   "outputs": [
    {
     "name": "stderr",
     "output_type": "stream",
     "text": [
      "/home/zhangy23/anaconda3/envs/vc/lib/python3.6/site-packages/torch/nn/functional.py:2506: UserWarning: Default upsampling behavior when mode=bilinear is changed to align_corners=False since 0.4.0. Please specify align_corners=True if the old behavior is desired. See the documentation of nn.Upsample for details.\n",
      "  \"See the documentation of nn.Upsample for details.\".format(mode))\n"
     ]
    }
   ],
   "source": [
    "import skimage\n",
    "for i, data_raw in enumerate(dataset_loader_val):\n",
    "    \n",
    "    data_np = get_colorization_data(data_raw, opt, p=opt.sample_p, first_round=True)\n",
    "    data = ToCuda(data_np)\n",
    "    em_ab = model(data['gray'], data['clicks'], data['prev'])\n",
    "\n",
    "    em_ab_np = em_ab.detach().cpu().numpy()\n",
    "    psnr = PSNR(data_np, em_ab_np, opt, avg=True)\n",
    "    break"
   ]
  },
  {
   "cell_type": "code",
   "execution_count": 5,
   "metadata": {
    "colab": {},
    "colab_type": "code",
    "id": "CM2RPY5t9SSR"
   },
   "outputs": [
    {
     "data": {
      "text/plain": [
       "(1, 224, 224)"
      ]
     },
     "execution_count": 5,
     "metadata": {},
     "output_type": "execute_result"
    }
   ],
   "source": [
    "data_np['gray'][0,:,:,:].shape"
   ]
  },
  {
   "cell_type": "code",
   "execution_count": 6,
   "metadata": {
    "colab": {},
    "colab_type": "code",
    "id": "DYP70UHG7pq6"
   },
   "outputs": [
    {
     "name": "stderr",
     "output_type": "stream",
     "text": [
      "/home/zhangy23/anaconda3/envs/vc/lib/python3.6/site-packages/skimage/color/colorconv.py:1068: UserWarning: Color data out of range: Z < 0 in 771 pixels\n",
      "  return xyz2rgb(lab2xyz(lab, illuminant, observer))\n"
     ]
    }
   ],
   "source": [
    "em_img = np.append(data_np['gray'][1,:,:,:] * 100, em_ab_np[1,:,:,:] * 128, axis=0)\n",
    "gt_img = np.append(data_np['gray'][1,:,:,:] * 100, data_np['ab'][1,:,:,:] * 128, axis=0)\n",
    "em_img = np.transpose(em_img, (1, 2, 0))\n",
    "gt_img = np.transpose(gt_img, (1, 2, 0))\n",
    "em = skimage.color.lab2rgb(em_img)\n",
    "gt = skimage.color.lab2rgb(gt_img)"
   ]
  },
  {
   "cell_type": "code",
   "execution_count": null,
   "metadata": {},
   "outputs": [],
   "source": []
  }
 ],
 "metadata": {
  "accelerator": "GPU",
  "colab": {
   "authorship_tag": "ABX9TyP2Obgoe6kurJGjuSDW29An",
   "mount_file_id": "186voYHjmGcj90HLXtGgyigcFaiJynXEm",
   "name": "test_I.ipynb",
   "provenance": []
  },
  "kernelspec": {
   "display_name": "Python 3",
   "language": "python",
   "name": "python3"
  },
  "language_info": {
   "codemirror_mode": {
    "name": "ipython",
    "version": 3
   },
   "file_extension": ".py",
   "mimetype": "text/x-python",
   "name": "python",
   "nbconvert_exporter": "python",
   "pygments_lexer": "ipython3",
   "version": "3.6.10"
  }
 },
 "nbformat": 4,
 "nbformat_minor": 4
}
