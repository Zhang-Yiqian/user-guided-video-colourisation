{
 "cells": [
  {
   "cell_type": "code",
   "execution_count": 1,
   "metadata": {},
   "outputs": [],
   "source": [
    "%load_ext autoreload\n",
    "%autoreload 2"
   ]
  },
  {
   "cell_type": "code",
   "execution_count": 2,
   "metadata": {
    "colab": {
     "base_uri": "https://localhost:8080/",
     "height": 34
    },
    "colab_type": "code",
    "executionInfo": {
     "elapsed": 46046,
     "status": "ok",
     "timestamp": 1585563499148,
     "user": {
      "displayName": "Yiqian Zhang",
      "photoUrl": "",
      "userId": "10081910027681855976"
     },
     "user_tz": -60
    },
    "id": "Bla8cCJGB_jv",
    "outputId": "c426a147-69a7-4288-fa5c-35d0c93d5649"
   },
   "outputs": [
    {
     "name": "stdout",
     "output_type": "stream",
     "text": [
      "Interaction Network: initialized\n"
     ]
    }
   ],
   "source": [
    "import torch\n",
    "import numpy as np\n",
    "import random\n",
    "from options import DefaultConfig\n",
    "opt = DefaultConfig()\n",
    "torch.cuda.set_device(opt.gpu_ids)\n",
    "torch.manual_seed(opt.seed)\n",
    "torch.cuda.manual_seed(opt.seed)\n",
    "torch.cuda.manual_seed_all(opt.seed)\n",
    "np.random.seed(opt.seed)\n",
    "random.seed(opt.seed)\n",
    "import sys\n",
    "import os\n",
    "import time\n",
    "import pdb\n",
    "from models import create_Inet\n",
    "import torch\n",
    "import torchvision\n",
    "import torchvision.transforms as transforms\n",
    "from scipy import interpolate\n",
    "from utils.image_folder import ImageFolder\n",
    "from utils import utils\n",
    "from utils.utils import *\n",
    "# from utils.Visualizer import Visualizer\n",
    "import matplotlib.pyplot as plt\n",
    "from IPython.display import clear_output\n",
    "\n",
    "# torch.backends.cudnn.deterministic = True"
   ]
  },
  {
   "cell_type": "code",
   "execution_count": 3,
   "metadata": {
    "colab": {
     "base_uri": "https://localhost:8080/",
     "height": 51
    },
    "colab_type": "code",
    "executionInfo": {
     "elapsed": 51140,
     "status": "ok",
     "timestamp": 1585563653528,
     "user": {
      "displayName": "Yiqian Zhang",
      "photoUrl": "",
      "userId": "10081910027681855976"
     },
     "user_tz": -60
    },
    "id": "ogRaBlqPOTqZ",
    "outputId": "7145472b-d1e4-4312-91f1-10fc188f68c6"
   },
   "outputs": [
    {
     "name": "stdout",
     "output_type": "stream",
     "text": [
      "#training images = 118060\n",
      "#validation images = 1000\n"
     ]
    }
   ],
   "source": [
    "opt.dataroot_train = opt.dataroot + 'train/'\n",
    "dataset_train = ImageFolder(opt.dataroot_train,\n",
    "                       transform=transforms.Compose([\n",
    "                                   transforms.Resize(opt.loadSize),\n",
    "                                   transforms.RandomResizedCrop(opt.fineSize),\n",
    "                                   transforms.RandomHorizontalFlip(),\n",
    "                                   transforms.ToTensor()]))\n",
    "dataset_loader_train = torch.utils.data.DataLoader(dataset_train, batch_size=opt.batch_size, shuffle=False)\n",
    "dataset_train_size = len(dataset_train)\n",
    "print('#training images = %d' % dataset_train_size)\n",
    "\n",
    "#opt.dataroot_val = opt.dataroot + 'val/'\n",
    "opt.dataroot_val = '/home/zhangy23/dataset/coco_nogray/subval/'\n",
    "dataset_val = ImageFolder(opt.dataroot_val,\n",
    "                       transform=transforms.Compose([\n",
    "                                   transforms.Resize(opt.loadSize),\n",
    "                                   transforms.RandomResizedCrop(opt.fineSize),\n",
    "                                   transforms.ToTensor()]))\n",
    "dataset_loader_val = torch.utils.data.DataLoader(dataset_val, batch_size=opt.batch_size_val, shuffle=False)\n",
    "dataset_val_size = len(dataset_val)\n",
    "print('#validation images = %d' % dataset_val_size)"
   ]
  },
  {
   "cell_type": "code",
   "execution_count": 4,
   "metadata": {
    "colab": {
     "base_uri": "https://localhost:8080/",
     "height": 120,
     "referenced_widgets": [
      "ed06859790c84274a558c5a4068bb8cd",
      "6be199dd25c94ee2a0a059a1514fbae9",
      "2e72f453993b4a3fb98526e71eb09a57",
      "493136ca72e841f8bbb0ac5d12bd01b0",
      "3c7492371de240f58f9a8e11a3690fde",
      "59bec759eb9a4cd7a00207d9995b6432",
      "4532c39e1ebf44f3a9da633e206d3536",
      "06ec3264c79246c68a49fffb8e402553"
     ]
    },
    "colab_type": "code",
    "executionInfo": {
     "elapsed": 12087,
     "status": "ok",
     "timestamp": 1585563688630,
     "user": {
      "displayName": "Yiqian Zhang",
      "photoUrl": "",
      "userId": "10081910027681855976"
     },
     "user_tz": -60
    },
    "id": "f_rktbS9TYPT",
    "outputId": "1d4e2837-bf56-4c11-9e16-58aa52330825"
   },
   "outputs": [
    {
     "name": "stdout",
     "output_type": "stream",
     "text": [
      "Interaction net was created\n"
     ]
    }
   ],
   "source": [
    "model = create_Inet(opt)\n",
    "model.setup(opt)\n",
    "# print(model)\n",
    "if opt.gpu_ids is not None:\n",
    "    model.cuda()\n",
    "# for i in model.parameters():\n",
    "#    print(i)\n",
    "#    break"
   ]
  },
  {
   "cell_type": "code",
   "execution_count": 5,
   "metadata": {
    "colab": {
     "base_uri": "https://localhost:8080/",
     "height": 71
    },
    "colab_type": "code",
    "executionInfo": {
     "elapsed": 3896,
     "status": "ok",
     "timestamp": 1585584235301,
     "user": {
      "displayName": "Yiqian Zhang",
      "photoUrl": "",
      "userId": "10081910027681855976"
     },
     "user_tz": -60
    },
    "id": "Ias8E6pHrCuq",
    "outputId": "e7e4f30c-9cb7-44f0-eaa9-f1bebe7d217d",
    "scrolled": true
   },
   "outputs": [
    {
     "name": "stdout",
     "output_type": "stream",
     "text": [
      "Sun Apr 19 16:29:59 2020       \n",
      "+-----------------------------------------------------------------------------+\n",
      "| NVIDIA-SMI 440.59       Driver Version: 440.59       CUDA Version: 10.2     |\n",
      "|-------------------------------+----------------------+----------------------+\n",
      "| GPU  Name        Persistence-M| Bus-Id        Disp.A | Volatile Uncorr. ECC |\n",
      "| Fan  Temp  Perf  Pwr:Usage/Cap|         Memory-Usage | GPU-Util  Compute M. |\n",
      "|===============================+======================+======================|\n",
      "|   0  GeForce RTX 208...  On   | 00000000:19:00.0 Off |                  N/A |\n",
      "| 38%   67C    P2    83W / 250W |   2966MiB / 11019MiB |      0%      Default |\n",
      "+-------------------------------+----------------------+----------------------+\n",
      "|   1  GeForce RTX 208...  On   | 00000000:1A:00.0 Off |                  N/A |\n",
      "| 43%   65C    P2    61W / 250W |    906MiB / 11019MiB |      6%      Default |\n",
      "+-------------------------------+----------------------+----------------------+\n",
      "|   2  GeForce RTX 208...  On   | 00000000:67:00.0 Off |                  N/A |\n",
      "| 50%   75C    P2    91W / 250W |   2966MiB / 11019MiB |     39%      Default |\n",
      "+-------------------------------+----------------------+----------------------+\n",
      "|   3  GeForce RTX 208...  On   | 00000000:68:00.0  On |                  N/A |\n",
      "| 54%   79C    P2   149W / 250W |   2972MiB / 11016MiB |     37%      Default |\n",
      "+-------------------------------+----------------------+----------------------+\n",
      "                                                                               \n",
      "+-----------------------------------------------------------------------------+\n",
      "| Processes:                                                       GPU Memory |\n",
      "|  GPU       PID   Type   Process name                             Usage      |\n",
      "|=============================================================================|\n",
      "|    0     10604      C   python                                      2955MiB |\n",
      "|    1     24499      C   ...e/zhangy23/anaconda3/envs/vc/bin/python   895MiB |\n",
      "|    2     10728      C   python                                      2955MiB |\n",
      "|    3     11143      C   python                                      2961MiB |\n",
      "+-----------------------------------------------------------------------------+\n"
     ]
    }
   ],
   "source": [
    "!nvidia-smi "
   ]
  },
  {
   "cell_type": "code",
   "execution_count": 6,
   "metadata": {
    "colab": {
     "base_uri": "https://localhost:8080/",
     "height": 34
    },
    "colab_type": "code",
    "executionInfo": {
     "elapsed": 932,
     "status": "ok",
     "timestamp": 1585563696185,
     "user": {
      "displayName": "Yiqian Zhang",
      "photoUrl": "",
      "userId": "10081910027681855976"
     },
     "user_tz": -60
    },
    "id": "TV7j8OtDgy5x",
    "outputId": "94bfcbfb-1c6f-4197-dbdb-7d6f41a9fc73"
   },
   "outputs": [
    {
     "name": "stdout",
     "output_type": "stream",
     "text": [
      "2020-04-19 16:29:59\n"
     ]
    }
   ],
   "source": [
    "print(time.strftime(\"%Y-%m-%d %H:%M:%S\", time.localtime()))"
   ]
  },
  {
   "cell_type": "code",
   "execution_count": 7,
   "metadata": {
    "colab": {
     "base_uri": "https://localhost:8080/",
     "height": 899
    },
    "colab_type": "code",
    "executionInfo": {
     "elapsed": 650,
     "status": "error",
     "timestamp": 1585534789032,
     "user": {
      "displayName": "Yiqian Zhang",
      "photoUrl": "",
      "userId": "10081910027681855976"
     },
     "user_tz": -60
    },
    "id": "-UPCFg5eMv8O",
    "outputId": "3174df92-e480-4b52-8372-fc225603941f"
   },
   "outputs": [
    {
     "data": {
      "image/png": "[encoded data removed]",
      "text/plain": [
       "<Figure size 720x480 with 1 Axes>"
      ]
     },
     "metadata": {
      "needs_background": "light"
     },
     "output_type": "display_data"
    },
    {
     "data": {
      "image/png": "[encoded data removed]",
      "text/plain": [
       "<Figure size 720x480 with 1 Axes>"
      ]
     },
     "metadata": {
      "needs_background": "light"
     },
     "output_type": "display_data"
    },
    {
     "name": "stderr",
     "output_type": "stream",
     "text": [
      "/home/zhangy23/anaconda3/envs/vc/lib/python3.6/site-packages/torch/nn/functional.py:2506: UserWarning: Default upsampling behavior when mode=bilinear is changed to align_corners=False since 0.4.0. Please specify align_corners=True if the old behavior is desired. See the documentation of nn.Upsample for details.\n",
      "  \"See the documentation of nn.Upsample for details.\".format(mode))\n"
     ]
    },
    {
     "ename": "KeyboardInterrupt",
     "evalue": "",
     "output_type": "error",
     "traceback": [
      "\u001b[0;31m---------------------------------------------------------------------------\u001b[0m",
      "\u001b[0;31mKeyboardInterrupt\u001b[0m                         Traceback (most recent call last)",
      "\u001b[0;32m<ipython-input-7-5b28a453c66f>\u001b[0m in \u001b[0;36m<module>\u001b[0;34m\u001b[0m\n\u001b[1;32m     32\u001b[0m         \u001b[0;32mfor\u001b[0m \u001b[0m_\u001b[0m \u001b[0;32min\u001b[0m \u001b[0mrange\u001b[0m\u001b[0;34m(\u001b[0m\u001b[0mnum_round\u001b[0m\u001b[0;34m)\u001b[0m\u001b[0;34m:\u001b[0m\u001b[0;34m\u001b[0m\u001b[0;34m\u001b[0m\u001b[0m\n\u001b[1;32m     33\u001b[0m             \u001b[0;31m# print(_)\u001b[0m\u001b[0;34m\u001b[0m\u001b[0;34m\u001b[0m\u001b[0;34m\u001b[0m\u001b[0m\n\u001b[0;32m---> 34\u001b[0;31m             \u001b[0mdata_cpu\u001b[0m \u001b[0;34m=\u001b[0m \u001b[0mutils\u001b[0m\u001b[0;34m.\u001b[0m\u001b[0mget_colorization_data\u001b[0m\u001b[0;34m(\u001b[0m\u001b[0mdata_raw\u001b[0m\u001b[0;34m,\u001b[0m \u001b[0mopt\u001b[0m\u001b[0;34m,\u001b[0m \u001b[0mprev\u001b[0m\u001b[0;34m=\u001b[0m\u001b[0mprev_ab\u001b[0m\u001b[0;34m,\u001b[0m \u001b[0mp\u001b[0m\u001b[0;34m=\u001b[0m\u001b[0mopt\u001b[0m\u001b[0;34m.\u001b[0m\u001b[0msample_p\u001b[0m\u001b[0;34m)\u001b[0m\u001b[0;34m\u001b[0m\u001b[0;34m\u001b[0m\u001b[0m\n\u001b[0m\u001b[1;32m     35\u001b[0m             \u001b[0;32mif\u001b[0m\u001b[0;34m(\u001b[0m\u001b[0mdata_cpu\u001b[0m \u001b[0;32mis\u001b[0m \u001b[0;32mNone\u001b[0m\u001b[0;34m)\u001b[0m\u001b[0;34m:\u001b[0m\u001b[0;34m\u001b[0m\u001b[0;34m\u001b[0m\u001b[0m\n\u001b[1;32m     36\u001b[0m                 \u001b[0;32mcontinue\u001b[0m\u001b[0;34m\u001b[0m\u001b[0;34m\u001b[0m\u001b[0m\n",
      "\u001b[0;32m~/github/user-guided-video-colourisation/utils/utils.py\u001b[0m in \u001b[0;36mget_colorization_data\u001b[0;34m(data_raw, opt, prev, ab_thresh, p, num_points)\u001b[0m\n\u001b[1;32m    182\u001b[0m         \u001b[0msamp\u001b[0m\u001b[0;34m=\u001b[0m\u001b[0;34m'normal'\u001b[0m\u001b[0;34m\u001b[0m\u001b[0;34m\u001b[0m\u001b[0m\n\u001b[1;32m    183\u001b[0m         \u001b[0;32mreturn\u001b[0m \u001b[0mdata\u001b[0m\u001b[0;34m\u001b[0m\u001b[0;34m\u001b[0m\u001b[0m\n\u001b[0;32m--> 184\u001b[0;31m \u001b[0;34m\u001b[0m\u001b[0m\n\u001b[0m\u001b[1;32m    185\u001b[0m     \u001b[0;32mreturn\u001b[0m \u001b[0madd_color_patches_rand_gt\u001b[0m\u001b[0;34m(\u001b[0m\u001b[0mdata\u001b[0m\u001b[0;34m,\u001b[0m \u001b[0mopt\u001b[0m\u001b[0;34m,\u001b[0m \u001b[0mprev\u001b[0m\u001b[0;34m,\u001b[0m \u001b[0mp\u001b[0m\u001b[0;34m=\u001b[0m\u001b[0mp\u001b[0m\u001b[0;34m,\u001b[0m \u001b[0mnum_points\u001b[0m\u001b[0;34m=\u001b[0m\u001b[0mnum_points\u001b[0m\u001b[0;34m,\u001b[0m \u001b[0msamp\u001b[0m\u001b[0;34m=\u001b[0m\u001b[0msamp\u001b[0m\u001b[0;34m)\u001b[0m\u001b[0;34m\u001b[0m\u001b[0;34m\u001b[0m\u001b[0m\n\u001b[1;32m    186\u001b[0m \u001b[0;34m\u001b[0m\u001b[0m\n",
      "\u001b[0;32m~/github/user-guided-video-colourisation/utils/utils.py\u001b[0m in \u001b[0;36madd_color_patches_rand_gt\u001b[0;34m(data, opt, prev, p, num_points, use_avg, samp)\u001b[0m\n\u001b[1;32m    215\u001b[0m             \u001b[0;32mif\u001b[0m \u001b[0;32mnot\u001b[0m \u001b[0mcont_cond\u001b[0m\u001b[0;34m:\u001b[0m \u001b[0;31m# skip out of loop if condition not met\u001b[0m\u001b[0;34m\u001b[0m\u001b[0;34m\u001b[0m\u001b[0m\n\u001b[1;32m    216\u001b[0m                 \u001b[0;32mcontinue\u001b[0m\u001b[0;34m\u001b[0m\u001b[0;34m\u001b[0m\u001b[0m\n\u001b[0;32m--> 217\u001b[0;31m \u001b[0;34m\u001b[0m\u001b[0m\n\u001b[0m\u001b[1;32m    218\u001b[0m             \u001b[0mP\u001b[0m \u001b[0;34m=\u001b[0m \u001b[0mnp\u001b[0m\u001b[0;34m.\u001b[0m\u001b[0mrandom\u001b[0m\u001b[0;34m.\u001b[0m\u001b[0mchoice\u001b[0m\u001b[0;34m(\u001b[0m\u001b[0mopt\u001b[0m\u001b[0;34m.\u001b[0m\u001b[0msample_Ps\u001b[0m\u001b[0;34m)\u001b[0m \u001b[0;31m# patch size\u001b[0m\u001b[0;34m\u001b[0m\u001b[0;34m\u001b[0m\u001b[0m\n\u001b[1;32m    219\u001b[0m \u001b[0;34m\u001b[0m\u001b[0m\n",
      "\u001b[0;31mKeyboardInterrupt\u001b[0m: "
     ]
    }
   ],
   "source": [
    "X_val = []\n",
    "X_train = []\n",
    "\n",
    "val_losses = []\n",
    "train_losses = []\n",
    "val_psnrs = []\n",
    "train_psnrs = []\n",
    "\n",
    "total_steps = 0\n",
    "for epoch in range(opt.epoch_count, opt.niter + opt.niter_decay):\n",
    "    val_step = 0\n",
    "    model_index = 0\n",
    "    for i, data_raw in enumerate(dataset_loader_train):\n",
    "        total_steps += 1\n",
    "        val_step += 1\n",
    "        \n",
    "        # first round estimation without user interaction, turn on eval mode\n",
    "        opt.no_prev = True\n",
    "        model.eval()\n",
    "        \n",
    "        data_fr = utils.get_colorization_data(data_raw, opt, p=opt.sample_p)\n",
    "        data_fr = ToCuda(data_fr)\n",
    "        auto_ab = model(data_fr['gray'], data_fr['clicks'], data_fr['prev']).cpu()\n",
    "        \n",
    "        # full estimation results measure l2 distance \n",
    "        model.train()\n",
    "        \n",
    "        # first estimation is used as previous fake_ab, turn on training mode\n",
    "        prev_ab = auto_ab\n",
    "        opt.no_prev = False\n",
    "        num_round = np.random.randint(3) + 1 \n",
    "        for _ in range(num_round):\n",
    "            # print(_)\n",
    "            data_cpu = utils.get_colorization_data(data_raw, opt, prev=prev_ab, p=opt.sample_p)\n",
    "            if(data_cpu is None):\n",
    "                continue\n",
    "            data = ToCuda(data_cpu)\n",
    "            fake_ab = model(data['gray'], data['clicks'], data['prev'])\n",
    "            loss = model.calc_loss(data['ab'], fake_ab)\n",
    "            model.optimizer.zero_grad()\n",
    "            loss.backward()\n",
    "            model.optimizer.step()\n",
    "            prev_ab = fake_ab.detach().cpu()\n",
    "            del fake_ab\n",
    "           \n",
    "        if val_step % opt.val_freq == 0:\n",
    "            print('validation phase')\n",
    "            val_loss = 0\n",
    "            val_psnr = 0\n",
    "            \n",
    "            model.eval()\n",
    "            for ii, data_raw_val in enumerate(dataset_loader_val):\n",
    "                # auto colourisartion\n",
    "                opt.no_prev = True\n",
    "                data_cpu_val = utils.get_colorization_data(data_raw_val, opt, p=opt.sample_p)\n",
    "                if(data_cpu_val is None):\n",
    "                    continue\n",
    "                data_val = ToCuda(data_cpu_val)\n",
    "                fake_ab_val = model(data_val['gray'], data_val['clicks'], data_val['prev'])\n",
    "                prev_ab_val = fake_ab_val.detach().cpu()\n",
    "                \n",
    "                # update first colourisation\n",
    "                opt.no_prev = False\n",
    "                data_cpu_val = utils.get_colorization_data(data_raw_val, opt, prev=prev_ab_val, p=opt.sample_p)\n",
    "                data_val = ToCuda(data_cpu_val)\n",
    "                fake_ab_val = model(data_val['gray'], data_val['clicks'], data_val['prev'])\n",
    "                loss_val = model.calc_loss(data_val['ab'], fake_ab_val)\n",
    "                psnr_val = calc_batch_psnr(data_val['gray'].detach(), data_val['ab'].detach(), fake_ab_val.detach(), opt, avg=False)\n",
    "\n",
    "                val_loss += loss_val.detach().cpu().numpy()\n",
    "                val_psnr += psnr_val\n",
    "            val_psnrs.append(val_psnr / dataset_val_size)\n",
    "            val_losses.append(val_loss / dataset_val_size)\n",
    "            X_val.append(total_steps)\n",
    "            model.train()\n",
    "            \n",
    "            # save model\n",
    "            model_index += 1\n",
    "            save_model(model, opt, epoch, model_index, val_psnr / dataset_val_size)\n",
    "\n",
    "        if total_steps % opt.print_freq == 0:\n",
    "            X_train.append(total_steps)\n",
    "            # loss and PSNR\n",
    "            train_psnrs.append(calc_batch_psnr(data['gray'].detach(), data['ab'].detach(), prev_ab.detach(), opt))\n",
    "            train_losses.append(loss.detach().cpu().numpy())\n",
    "            \n",
    "            # plot loss and PSNR curve\n",
    "            clear_output(wait=True)\n",
    "            plt.figure(1)\n",
    "            plt.rcParams['figure.dpi'] = 120 \n",
    "            #plt.ylim([0, .08])\n",
    "            plt.title('Loss')\n",
    "            plt.plot(X_train, train_losses, label=\"Training loss\")\n",
    "            plt.plot(X_val, val_losses, label=\"Validation loss\")\n",
    "            plt.grid(True)\n",
    "            plt.legend()\n",
    "            plt.show()\n",
    "\n",
    "            plt.figure(2)\n",
    "            plt.rcParams['figure.dpi'] = 120 \n",
    "            # plt.ylim([15, 30])\n",
    "            plt.title('PSNR')\n",
    "            plt.plot(X_train, train_psnrs, label=\"Training PSNR\")\n",
    "            plt.plot(X_val, val_psnrs, label=\"Validation PSNR\")\n",
    "            plt.grid(True)\n",
    "            plt.legend()\n",
    "            plt.show()\n",
    "\n",
    "    np.save('Iter'+str(epoch)+'train_loss.npy', train_losses)\n",
    "    np.save('Iter'+str(epoch)+'val_loss.npy', val_losses)\n",
    "    np.save('Iter'+str(epoch)+'train_psnr.npy', train_psnrs)\n",
    "    np.save('Iter'+str(epoch)+'val_psnrs.npy', val_psnrs)\n"
   ]
  },
  {
   "cell_type": "code",
   "execution_count": null,
   "metadata": {},
   "outputs": [],
   "source": []
  },
  {
   "cell_type": "code",
   "execution_count": null,
   "metadata": {
    "colab": {},
    "colab_type": "code",
    "id": "hgFkDsf2ot0F"
   },
   "outputs": [],
   "source": [
    "#!sudo apt-get install -y psmisc\n",
    "#!fuser /dev/nvidia*"
   ]
  },
  {
   "cell_type": "code",
   "execution_count": 2,
   "metadata": {
    "colab": {},
    "colab_type": "code",
    "id": "UbeZouv-qKkp"
   },
   "outputs": [],
   "source": [
    "#!kill 20457      "
   ]
  },
  {
   "cell_type": "code",
   "execution_count": 16,
   "metadata": {},
   "outputs": [
    {
     "data": {
      "text/plain": [
       "118060"
      ]
     },
     "execution_count": 16,
     "metadata": {},
     "output_type": "execute_result"
    }
   ],
   "source": [
    "files = os.listdir(train)\n",
    "len(files)"
   ]
  },
  {
   "cell_type": "code",
   "execution_count": 10,
   "metadata": {},
   "outputs": [],
   "source": [
    "import os\n",
    "files = os.listdir('/home/zhangy23/dataset/coco_nogray/subval/')"
   ]
  },
  {
   "cell_type": "code",
   "execution_count": 11,
   "metadata": {},
   "outputs": [
    {
     "data": {
      "text/plain": [
       "1000"
      ]
     },
     "execution_count": 11,
     "metadata": {},
     "output_type": "execute_result"
    }
   ],
   "source": [
    "len(files)"
   ]
  },
  {
   "cell_type": "code",
   "execution_count": 10,
   "metadata": {},
   "outputs": [
    {
     "data": {
      "text/plain": [
       "[0]"
      ]
     },
     "execution_count": 10,
     "metadata": {},
     "output_type": "execute_result"
    }
   ],
   "source": [
    "list(range(1))"
   ]
  },
  {
   "cell_type": "code",
   "execution_count": null,
   "metadata": {},
   "outputs": [],
   "source": []
  }
 ],
 "metadata": {
  "accelerator": "GPU",
  "colab": {
   "collapsed_sections": [],
   "machine_shape": "hm",
   "name": "colourisation.ipynb",
   "provenance": [],
   "toc_visible": true
  },
  "kernelspec": {
   "display_name": "Python 3",
   "language": "python",
   "name": "python3"
  },
  "language_info": {
   "codemirror_mode": {
    "name": "ipython",
    "version": 3
   },
   "file_extension": ".py",
   "mimetype": "text/x-python",
   "name": "python",
   "nbconvert_exporter": "python",
   "pygments_lexer": "ipython3",
   "version": "3.6.10"
  },
  "widgets": {
   "application/vnd.jupyter.widget-state+json": {
    "06ec3264c79246c68a49fffb8e402553": {
     "model_module": "@jupyter-widgets/base",
     "model_name": "LayoutModel",
     "state": {
      "_model_module": "@jupyter-widgets/base",
      "_model_module_version": "1.2.0",
      "_model_name": "LayoutModel",
      "_view_count": null,
      "_view_module": "@jupyter-widgets/base",
      "_view_module_version": "1.2.0",
      "_view_name": "LayoutView",
      "align_content": null,
      "align_items": null,
      "align_self": null,
      "border": null,
      "bottom": null,
      "display": null,
      "flex": null,
      "flex_flow": null,
      "grid_area": null,
      "grid_auto_columns": null,
      "grid_auto_flow": null,
      "grid_auto_rows": null,
      "grid_column": null,
      "grid_gap": null,
      "grid_row": null,
      "grid_template_areas": null,
      "grid_template_columns": null,
      "grid_template_rows": null,
      "height": null,
      "justify_content": null,
      "justify_items": null,
      "left": null,
      "margin": null,
      "max_height": null,
      "max_width": null,
      "min_height": null,
      "min_width": null,
      "object_fit": null,
      "object_position": null,
      "order": null,
      "overflow": null,
      "overflow_x": null,
      "overflow_y": null,
      "padding": null,
      "right": null,
      "top": null,
      "visibility": null,
      "width": null
     }
    },
    "2e72f453993b4a3fb98526e71eb09a57": {
     "model_module": "@jupyter-widgets/controls",
     "model_name": "IntProgressModel",
     "state": {
      "_dom_classes": [],
      "_model_module": "@jupyter-widgets/controls",
      "_model_module_version": "1.5.0",
      "_model_name": "IntProgressModel",
      "_view_count": null,
      "_view_module": "@jupyter-widgets/controls",
      "_view_module_version": "1.5.0",
      "_view_name": "ProgressView",
      "bar_style": "success",
      "description": "100%",
      "description_tooltip": null,
      "layout": "IPY_MODEL_59bec759eb9a4cd7a00207d9995b6432",
      "max": 102502400,
      "min": 0,
      "orientation": "horizontal",
      "style": "IPY_MODEL_3c7492371de240f58f9a8e11a3690fde",
      "value": 102502400
     }
    },
    "3c7492371de240f58f9a8e11a3690fde": {
     "model_module": "@jupyter-widgets/controls",
     "model_name": "ProgressStyleModel",
     "state": {
      "_model_module": "@jupyter-widgets/controls",
      "_model_module_version": "1.5.0",
      "_model_name": "ProgressStyleModel",
      "_view_count": null,
      "_view_module": "@jupyter-widgets/base",
      "_view_module_version": "1.2.0",
      "_view_name": "StyleView",
      "bar_color": null,
      "description_width": "initial"
     }
    },
    "4532c39e1ebf44f3a9da633e206d3536": {
     "model_module": "@jupyter-widgets/controls",
     "model_name": "DescriptionStyleModel",
     "state": {
      "_model_module": "@jupyter-widgets/controls",
      "_model_module_version": "1.5.0",
      "_model_name": "DescriptionStyleModel",
      "_view_count": null,
      "_view_module": "@jupyter-widgets/base",
      "_view_module_version": "1.2.0",
      "_view_name": "StyleView",
      "description_width": ""
     }
    },
    "493136ca72e841f8bbb0ac5d12bd01b0": {
     "model_module": "@jupyter-widgets/controls",
     "model_name": "HTMLModel",
     "state": {
      "_dom_classes": [],
      "_model_module": "@jupyter-widgets/controls",
      "_model_module_version": "1.5.0",
      "_model_name": "HTMLModel",
      "_view_count": null,
      "_view_module": "@jupyter-widgets/controls",
      "_view_module_version": "1.5.0",
      "_view_name": "HTMLView",
      "description": "",
      "description_tooltip": null,
      "layout": "IPY_MODEL_06ec3264c79246c68a49fffb8e402553",
      "placeholder": "​",
      "style": "IPY_MODEL_4532c39e1ebf44f3a9da633e206d3536",
      "value": " 97.8M/97.8M [03:46&lt;00:00, 452kB/s]"
     }
    },
    "59bec759eb9a4cd7a00207d9995b6432": {
     "model_module": "@jupyter-widgets/base",
     "model_name": "LayoutModel",
     "state": {
      "_model_module": "@jupyter-widgets/base",
      "_model_module_version": "1.2.0",
      "_model_name": "LayoutModel",
      "_view_count": null,
      "_view_module": "@jupyter-widgets/base",
      "_view_module_version": "1.2.0",
      "_view_name": "LayoutView",
      "align_content": null,
      "align_items": null,
      "align_self": null,
      "border": null,
      "bottom": null,
      "display": null,
      "flex": null,
      "flex_flow": null,
      "grid_area": null,
      "grid_auto_columns": null,
      "grid_auto_flow": null,
      "grid_auto_rows": null,
      "grid_column": null,
      "grid_gap": null,
      "grid_row": null,
      "grid_template_areas": null,
      "grid_template_columns": null,
      "grid_template_rows": null,
      "height": null,
      "justify_content": null,
      "justify_items": null,
      "left": null,
      "margin": null,
      "max_height": null,
      "max_width": null,
      "min_height": null,
      "min_width": null,
      "object_fit": null,
      "object_position": null,
      "order": null,
      "overflow": null,
      "overflow_x": null,
      "overflow_y": null,
      "padding": null,
      "right": null,
      "top": null,
      "visibility": null,
      "width": null
     }
    },
    "6be199dd25c94ee2a0a059a1514fbae9": {
     "model_module": "@jupyter-widgets/base",
     "model_name": "LayoutModel",
     "state": {
      "_model_module": "@jupyter-widgets/base",
      "_model_module_version": "1.2.0",
      "_model_name": "LayoutModel",
      "_view_count": null,
      "_view_module": "@jupyter-widgets/base",
      "_view_module_version": "1.2.0",
      "_view_name": "LayoutView",
      "align_content": null,
      "align_items": null,
      "align_self": null,
      "border": null,
      "bottom": null,
      "display": null,
      "flex": null,
      "flex_flow": null,
      "grid_area": null,
      "grid_auto_columns": null,
      "grid_auto_flow": null,
      "grid_auto_rows": null,
      "grid_column": null,
      "grid_gap": null,
      "grid_row": null,
      "grid_template_areas": null,
      "grid_template_columns": null,
      "grid_template_rows": null,
      "height": null,
      "justify_content": null,
      "justify_items": null,
      "left": null,
      "margin": null,
      "max_height": null,
      "max_width": null,
      "min_height": null,
      "min_width": null,
      "object_fit": null,
      "object_position": null,
      "order": null,
      "overflow": null,
      "overflow_x": null,
      "overflow_y": null,
      "padding": null,
      "right": null,
      "top": null,
      "visibility": null,
      "width": null
     }
    },
    "ed06859790c84274a558c5a4068bb8cd": {
     "model_module": "@jupyter-widgets/controls",
     "model_name": "HBoxModel",
     "state": {
      "_dom_classes": [],
      "_model_module": "@jupyter-widgets/controls",
      "_model_module_version": "1.5.0",
      "_model_name": "HBoxModel",
      "_view_count": null,
      "_view_module": "@jupyter-widgets/controls",
      "_view_module_version": "1.5.0",
      "_view_name": "HBoxView",
      "box_style": "",
      "children": [
       "IPY_MODEL_2e72f453993b4a3fb98526e71eb09a57",
       "IPY_MODEL_493136ca72e841f8bbb0ac5d12bd01b0"
      ],
      "layout": "IPY_MODEL_6be199dd25c94ee2a0a059a1514fbae9"
     }
    }
   }
  }
 },
 "nbformat": 4,
 "nbformat_minor": 4
}
